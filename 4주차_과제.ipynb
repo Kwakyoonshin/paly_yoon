{
  "nbformat": 4,
  "nbformat_minor": 0,
  "metadata": {
    "colab": {
      "name": "4주차 과제.ipynb의 사본",
      "provenance": [],
      "collapsed_sections": [],
      "include_colab_link": true
    },
    "kernelspec": {
      "name": "python3",
      "display_name": "Python 3"
    }
  },
  "cells": [
    {
      "cell_type": "markdown",
      "metadata": {
        "id": "view-in-github",
        "colab_type": "text"
      },
      "source": [
        "<a href=\"https://colab.research.google.com/github/Kwakyoonshin/paly_yoon/blob/master/4%EC%A3%BC%EC%B0%A8_%EA%B3%BC%EC%A0%9C.ipynb\" target=\"_parent\"><img src=\"https://colab.research.google.com/assets/colab-badge.svg\" alt=\"Open In Colab\"/></a>"
      ]
    },
    {
      "cell_type": "markdown",
      "metadata": {
        "id": "wxkL6PjwsI6L",
        "colab_type": "text"
      },
      "source": [
        "# 4주차 과제\n",
        "- 용어 정리\n",
        "- 딥러닝 강의 클론 코딩\n",
        "- 딥러닝 순전파 & 역전파 계산"
      ]
    },
    {
      "cell_type": "markdown",
      "metadata": {
        "id": "ixEtDe6_uGgI",
        "colab_type": "text"
      },
      "source": [
        "## 1. 용어 정리\n",
        "\n",
        "다음 제시된 단어의 정의(설명)를 정리하여 작성 하세요.\n",
        "\n",
        "* 2문장 이상 작성 해 주세요. \n",
        "* 주제(단어)와 크게 벗어나지만 않는다면 정답처리 됩니다.\n",
        "* 강의 뿐 아니라 기타 레퍼런스를 참고하여 작성하셔도 됩니다. (기타 레퍼런스를 참고하신 경우, 해당 레퍼런스를 정리하여 하단에 작성해 주세요.)\n"
      ]
    },
    {
      "cell_type": "markdown",
      "metadata": {
        "id": "0lfwat8eurKZ",
        "colab_type": "text"
      },
      "source": [
        "__(예시)__\n",
        "### 심층 신경망\n",
        ": 입력층과 출력층 사이에 여러 개의 은닉층들로 이뤄진 인공신경망이다. 심층 신경망은 일반적으로 인공신경망과 마찬가지로 복잡한 비선형 관계들을 모델링 할 수 있다. 신층신경망의 목적은 분류 및 수치예측을 하기 위함이고 이미지 트레이닝이나 문자인식과 같은 분야에서 매우 유용하게 쓰이고 있다."
      ]
    },
    {
      "cell_type": "markdown",
      "metadata": {
        "id": "Y8YJNKG_v65A",
        "colab_type": "text"
      },
      "source": [
        "### MCP 뉴런\n",
        ": \n",
        "1943년 워랜 맥컬록과 월터 피츠가 발표한 간소화 된 뉴런 개념을 말합니다.\n",
        "화학적, 전기적으로 신호를 처리하고 전달하는 뇌의 신경세포를 간단한 논리 회로로서 표현했습니다. \n",
        "\n",
        "\n",
        "### 퍼셉트론\n",
        ":\n",
        "생물학적 신경세포를 논리회로로 표현한  MCP 모델을 기반으로 프랭크 로젠 블렛이 발표한 개념입니다. 퍼셉트론 규칙에서 프랭크 로젠 블렛은 자동으로 최적의 가중치를 학습하는 알고리즘을 제안 했습니다. 퍼셉트론은 입력값과, 가중치가 곱해지고, 이를 계산해서 전체 합이 임계값을 넘으면 출력을 하는 구조를 가지고 있습니다.  \n",
        "\n",
        "\n",
        "### 역전파\n",
        ":\n",
        "뉴런의 가중치를 효율적으로 조정하기 위해서, 거꾸로 무언인가를 전파하는 방식을 의미합니다. \n",
        "입력층에서 은닉층 방향으로 이동하면서 각 입력에 가중치를 곱해 출력층으로 전파하는 방식을 순전파라고 합니다. 이와 반대로 역전파는 출력층에서 입력층 방향으로 계산하면서 가중치를 업데이트 하는 방식입니다. 역전파 알고리즘은 입력값과 출력값을 알고 있을 경우 신경망을 학습시키는 알고리즘입니다. \n",
        "\n",
        "\n",
        "### 강화학습\n",
        ":\n",
        "강화학습(reinforcement learning)는 환경과의 상호작용을 기반으로 하여 자신의 성능을 개선하려는 시스템을 개발하는 것입니다. 순차적인 행동을 통해 최적화된 정책을 알아나가는 방법입니다. 강화학습은 마치 자전거와 유사합니다. 넘어지는 시행착오를 거쳐야 자전거를 탈 수 있듯이, 강화학습 또한 여러 시행착오를 거쳐 보상이 최대화되는 정책을 결정하기 때문입니다. 대표적인 사례로는 체스 엔진이 있습니다.\n",
        "\n",
        "### 과적합\n",
        ":\n",
        "과적합이란 머신러닝의 일반적인 문제 중 하나로 훈련 데이터에 대한 모델의 성능을 좋으나 경험하지 못한 데이터에 대해서는 잘 일반화되지 못하는 것을 말합니다. 과적합은 훈련용 데이터의 특정 관측 값에 지나치게 밀접하게 피팅됨으로서 실제 데이터를 잘 일반화하지 못하는 것을 말합니다. \n",
        "\n",
        "### 차원의 저주\n",
        ": \n",
        "차원의 저주란 정해진 크기의 훈련 데이터의 차원이 증가하는 경우, 피처 공간의 희소성이 증가하는 현상을 말한다. 쉽게 이야기하면 훌련 데이터의 차원이 늘어남에 따라 특성 공간이 점점 희소해지는 현상을 이야기합니다. 가장 가까운 이웃일지라도 고차원의 공간에서 멀어질수록 추정이 잘 되는 결과를 가져온다는 것입니다. 차원의 저주에 대한 문제는 k-means 알고리즘과, 계층적 클러스터링 알고리즘, 밀집도 기반 군집 알고리즘 등 유클리디안 거리 기준을 사용할 때 문제가 됩니다. 이를 피하기 위해서 올바른 변수의 선택, 차원 축소 기법 등을 이용합니다. \n",
        "\n",
        "\n",
        "> 참고한 문헌 : 세바스티안 라슈카,이혜연, 『파이썬머신러닝』, (주)지앤선,  2017년"
      ]
    },
    {
      "cell_type": "markdown",
      "metadata": {
        "id": "d-zfFXLCy6jD",
        "colab_type": "text"
      },
      "source": [
        "## 2. 딥러닝 강의 클론 코딩\n",
        "\n",
        "####__퍼셉트론 구조 구현하기__ \n",
        "딥러닝 강의(__딥러닝 원리[1] 3:15 ~ 5:15 부분__)를 보고 코드를 따라 치며 출력 결과를 만드세요.\n",
        " \n",
        "\n",
        "* 하나의 코드셀에 해당 코드를 한번에 다 적어서 실행해주세요 (__그렇게 하지 않을 경우, 아래 이미지와 같은 출력값이 나오지 않을 수 있습니다__)\n",
        "\n",
        "*__주의!__ 실제로 코딩해서 출력해보면 강의에 나온 출력 결과와 다르게 나옵니다!!\n"
      ]
    },
    {
      "cell_type": "code",
      "metadata": {
        "id": "BQmBc6TXFsLm",
        "colab_type": "code",
        "outputId": "6bc4a615-bf07-4e05-a893-36a3e3eaff56",
        "colab": {
          "base_uri": "https://localhost:8080/",
          "height": 228
        }
      },
      "source": [
        "import tensorflow as tf\n",
        "tf.compat.v1.set_random_seed(2020)\n",
        "x = 1\n",
        "y = 0\n",
        "w = tf.random.normal([1],0,1)\n",
        "\n",
        "import math\n",
        "def sigmoid(x) : \n",
        "  return 1/(1 + math.exp(-x))\n",
        "\n",
        "output = sigmoid(x*w)\n",
        "print(output)\n",
        "\n",
        "for i in range (1000) : \n",
        "  output = sigmoid(w*x)\n",
        "  error = y - output\n",
        "  w= w + x * 0.1 * error # 경사하강법  \n",
        "\n",
        "  if i % 100 == 99 :\n",
        "    print('학습활동:',i,'Error', error, \" 예측결과\", output)"
      ],
      "execution_count": 0,
      "outputs": [
        {
          "output_type": "stream",
          "text": [
            "0.47477188589261\n",
            "학습활동: 99 Error -0.10010598284299604  예측결과 0.10010598284299604\n",
            "학습활동: 199 Error -0.05178399422833116  예측결과 0.05178399422833116\n",
            "학습활동: 299 Error -0.034590451977903586  예측결과 0.034590451977903586\n",
            "학습활동: 399 Error -0.02588962752851373  예측결과 0.02588962752851373\n",
            "학습활동: 499 Error -0.020658699939863617  예측결과 0.020658699939863617\n",
            "학습활동: 599 Error -0.017174253993457355  예측결과 0.017174253993457355\n",
            "학습활동: 699 Error -0.014689506449480992  예측결과 0.014689506449480992\n",
            "학습활동: 799 Error -0.012829497265431342  예측결과 0.012829497265431342\n",
            "학습활동: 899 Error -0.011385568271837804  예측결과 0.011385568271837804\n",
            "학습활동: 999 Error -0.010232493309882492  예측결과 0.010232493309882492\n"
          ],
          "name": "stdout"
        }
      ]
    },
    {
      "cell_type": "markdown",
      "metadata": {
        "id": "wcc5mzI9oZ7r",
        "colab_type": "text"
      },
      "source": [
        "![대체 텍스트](https://www.notion.so/image/https%3A%2F%2Fs3-us-west-2.amazonaws.com%2Fsecure.notion-static.com%2F0cceeed0-0235-4b0f-af88-0b8c377d5b4b%2F_2020-06-09__9.35.23.png?table=block&id=88fd8912-9356-49a4-9fda-a1a63fe96ea9&width=2870&cache=v2)"
      ]
    },
    {
      "cell_type": "markdown",
      "metadata": {
        "id": "kr0HVRk8fOom",
        "colab_type": "text"
      },
      "source": [
        "## 3. 딥러닝 순전파 & 역전파 계산\n",
        "\n",
        "딥러닝 강의(__딥러닝 원리[2] 0:55 ~ 4:32 부분__)에 나오는 순전파 & 역전파 계산에 대한 문제 입니다.\n",
        "\n",
        "해당 영상과 다음 이미지를 참고하여 다음 2가지 물음에 답하세요.\n",
        "\n",
        "\n",
        "(1) 학습률이 0.2 일 경우 출력층의 노드값\n",
        "\n",
        "(2) 학습률이 0.1과 0.2 중 기대출력값이 지도데이터 \"3\"과 더 가까운 학습률은?"
      ]
    },
    {
      "cell_type": "markdown",
      "metadata": {
        "id": "CpwPFWhOUzww",
        "colab_type": "text"
      },
      "source": [
        "![대체 텍스트](https://www.notion.so/image/https%3A%2F%2Fs3-us-west-2.amazonaws.com%2Fsecure.notion-static.com%2Ff54dfd45-92ec-44ae-9616-6949d2484a45%2F_2020-06-10__5.22.03.png?table=block&id=ee05da89-3ceb-4ad9-a2d3-c9f68d24d1d9&width=3580&cache=v2)"
      ]
    },
    {
      "cell_type": "markdown",
      "metadata": {
        "id": "B2OVY7w5U3CI",
        "colab_type": "text"
      },
      "source": [
        "## (1) 학습률이 0.2 일 경우 출력층의 노드값 : 2.72\n",
        "## (2) 학습률이 0.1과 0.2 중 기대출력값이 지도데이터 \"3\"과 더 가까운 학습률은? 0.2: "
      ]
    },
    {
      "cell_type": "code",
      "metadata": {
        "id": "BgavfvqiWxBU",
        "colab_type": "code",
        "colab": {}
      },
      "source": [
        ""
      ],
      "execution_count": 0,
      "outputs": []
    }
  ]
}
